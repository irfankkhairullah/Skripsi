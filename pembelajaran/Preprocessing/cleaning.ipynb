{
 "cells": [
  {
   "cell_type": "code",
   "execution_count": 27,
   "metadata": {},
   "outputs": [],
   "source": [
    "from textblob import TextBlob\n",
    "import pandas as pd\n",
    "import numpy as np\n",
    "import nltk\n",
    "import string\n",
    "import re\n",
    "from nltk.tokenize.toktok import ToktokTokenizer\n",
    "from nltk.corpus import stopwords\n",
    "import unicodedata\n",
    "from bs4 import BeautifulSoup"
   ]
  },
  {
   "cell_type": "code",
   "execution_count": 28,
   "metadata": {},
   "outputs": [
    {
     "name": "stdout",
     "output_type": "stream",
     "text": [
      "<class 'pandas.core.frame.DataFrame'>\n",
      "RangeIndex: 6887 entries, 0 to 6886\n",
      "Data columns (total 2 columns):\n",
      " #   Column          Non-Null Count  Dtype \n",
      "---  ------          --------------  ----- \n",
      " 0   tweet_conv_eng  6887 non-null   object\n",
      " 1   trans_eng       6885 non-null   object\n",
      "dtypes: object(2)\n",
      "memory usage: 107.7+ KB\n"
     ]
    }
   ],
   "source": [
    "path = 'translate_datacs.csv'\n",
    "data = pd.read_csv(path, on_bad_lines='skip')\n",
    "# data = pd.read_excel('TweetTraining.xlsx')\n",
    "data.info()"
   ]
  },
  {
   "cell_type": "code",
   "execution_count": 29,
   "metadata": {},
   "outputs": [
    {
     "data": {
      "text/plain": [
       "0          - are you guys who use xlhome? how is mantepp?\n",
       "1       \"a xlhome\" take the jakarta train to use xl ho...\n",
       "2       \"a xlhome\" since wearing xl home has made the ...\n",
       "3                 \"how come xlhome, not entering my area\"\n",
       "4       \"i think it's not indihome. all operators expe...\n",
       "                              ...                        \n",
       "6882                  let's subscribe to xlhome now ^vevi\n",
       "6883              let's subscribe to xlhome now sis ^vevi\n",
       "6884                                       come on xlhome\n",
       "6885                                 let's move to xlhome\n",
       "6886                                  yuppp .. thx xlhome\n",
       "Name: trans_eng, Length: 6887, dtype: object"
      ]
     },
     "execution_count": 29,
     "metadata": {},
     "output_type": "execute_result"
    }
   ],
   "source": [
    "# make all letters lowercase\n",
    "df= data['trans_eng'].str.lower()\n",
    "df"
   ]
  },
  {
   "cell_type": "code",
   "execution_count": 30,
   "metadata": {},
   "outputs": [
    {
     "ename": "KeyError",
     "evalue": "'trans_eng'",
     "output_type": "error",
     "traceback": [
      "\u001b[1;31m---------------------------------------------------------------------------\u001b[0m",
      "\u001b[1;31mKeyError\u001b[0m                                  Traceback (most recent call last)",
      "\u001b[1;32me:\\skripsi\\FILE_FLASHDISK\\skripsi\\skripsiku\\programskripsi\\Program_Jadi\\Preprocessing\\cleaning.ipynb Cell 4\u001b[0m in \u001b[0;36m<cell line: 7>\u001b[1;34m()\u001b[0m\n\u001b[0;32m      <a href='vscode-notebook-cell:/e%3A/skripsi/FILE_FLASHDISK/skripsi/skripsiku/programskripsi/Program_Jadi/Preprocessing/cleaning.ipynb#X36sZmlsZQ%3D%3D?line=4'>5</a>\u001b[0m         input_txt \u001b[39m=\u001b[39m re\u001b[39m.\u001b[39msub(i, \u001b[39m'\u001b[39m\u001b[39m'\u001b[39m, \u001b[39mstr\u001b[39m(input_txt))\n\u001b[0;32m      <a href='vscode-notebook-cell:/e%3A/skripsi/FILE_FLASHDISK/skripsi/skripsiku/programskripsi/Program_Jadi/Preprocessing/cleaning.ipynb#X36sZmlsZQ%3D%3D?line=5'>6</a>\u001b[0m     \u001b[39mreturn\u001b[39;00m input_txt    \n\u001b[1;32m----> <a href='vscode-notebook-cell:/e%3A/skripsi/FILE_FLASHDISK/skripsi/skripsiku/programskripsi/Program_Jadi/Preprocessing/cleaning.ipynb#X36sZmlsZQ%3D%3D?line=6'>7</a>\u001b[0m df[\u001b[39m'\u001b[39m\u001b[39mremove_user\u001b[39m\u001b[39m'\u001b[39m] \u001b[39m=\u001b[39m np\u001b[39m.\u001b[39mvectorize(remove_pattern)(df[\u001b[39m'\u001b[39;49m\u001b[39mtrans_eng\u001b[39;49m\u001b[39m'\u001b[39;49m], \u001b[39m\"\u001b[39m\u001b[39m@[\u001b[39m\u001b[39m\\\u001b[39m\u001b[39mw]*\u001b[39m\u001b[39m\"\u001b[39m)\n",
      "File \u001b[1;32me:\\skripsi\\FILE_FLASHDISK\\skripsi\\skripsiku\\programskripsi\\Program_Jadi\\my-project\\my-env\\lib\\site-packages\\pandas\\core\\series.py:958\u001b[0m, in \u001b[0;36mSeries.__getitem__\u001b[1;34m(self, key)\u001b[0m\n\u001b[0;32m    955\u001b[0m     \u001b[39mreturn\u001b[39;00m \u001b[39mself\u001b[39m\u001b[39m.\u001b[39m_values[key]\n\u001b[0;32m    957\u001b[0m \u001b[39melif\u001b[39;00m key_is_scalar:\n\u001b[1;32m--> 958\u001b[0m     \u001b[39mreturn\u001b[39;00m \u001b[39mself\u001b[39;49m\u001b[39m.\u001b[39;49m_get_value(key)\n\u001b[0;32m    960\u001b[0m \u001b[39mif\u001b[39;00m is_hashable(key):\n\u001b[0;32m    961\u001b[0m     \u001b[39m# Otherwise index.get_value will raise InvalidIndexError\u001b[39;00m\n\u001b[0;32m    962\u001b[0m     \u001b[39mtry\u001b[39;00m:\n\u001b[0;32m    963\u001b[0m         \u001b[39m# For labels that don't resolve as scalars like tuples and frozensets\u001b[39;00m\n",
      "File \u001b[1;32me:\\skripsi\\FILE_FLASHDISK\\skripsi\\skripsiku\\programskripsi\\Program_Jadi\\my-project\\my-env\\lib\\site-packages\\pandas\\core\\series.py:1069\u001b[0m, in \u001b[0;36mSeries._get_value\u001b[1;34m(self, label, takeable)\u001b[0m\n\u001b[0;32m   1066\u001b[0m     \u001b[39mreturn\u001b[39;00m \u001b[39mself\u001b[39m\u001b[39m.\u001b[39m_values[label]\n\u001b[0;32m   1068\u001b[0m \u001b[39m# Similar to Index.get_value, but we do not fall back to positional\u001b[39;00m\n\u001b[1;32m-> 1069\u001b[0m loc \u001b[39m=\u001b[39m \u001b[39mself\u001b[39;49m\u001b[39m.\u001b[39;49mindex\u001b[39m.\u001b[39;49mget_loc(label)\n\u001b[0;32m   1070\u001b[0m \u001b[39mreturn\u001b[39;00m \u001b[39mself\u001b[39m\u001b[39m.\u001b[39mindex\u001b[39m.\u001b[39m_get_values_for_loc(\u001b[39mself\u001b[39m, loc, label)\n",
      "File \u001b[1;32me:\\skripsi\\FILE_FLASHDISK\\skripsi\\skripsiku\\programskripsi\\Program_Jadi\\my-project\\my-env\\lib\\site-packages\\pandas\\core\\indexes\\range.py:389\u001b[0m, in \u001b[0;36mRangeIndex.get_loc\u001b[1;34m(self, key, method, tolerance)\u001b[0m\n\u001b[0;32m    387\u001b[0m             \u001b[39mraise\u001b[39;00m \u001b[39mKeyError\u001b[39;00m(key) \u001b[39mfrom\u001b[39;00m \u001b[39merr\u001b[39;00m\n\u001b[0;32m    388\u001b[0m     \u001b[39mself\u001b[39m\u001b[39m.\u001b[39m_check_indexing_error(key)\n\u001b[1;32m--> 389\u001b[0m     \u001b[39mraise\u001b[39;00m \u001b[39mKeyError\u001b[39;00m(key)\n\u001b[0;32m    390\u001b[0m \u001b[39mreturn\u001b[39;00m \u001b[39msuper\u001b[39m()\u001b[39m.\u001b[39mget_loc(key, method\u001b[39m=\u001b[39mmethod, tolerance\u001b[39m=\u001b[39mtolerance)\n",
      "\u001b[1;31mKeyError\u001b[0m: 'trans_eng'"
     ]
    }
   ],
   "source": [
    "import re\n",
    "def remove_pattern(input_txt, pattern):\n",
    "    r = re.findall(pattern, str(input_txt))\n",
    "    for i in r:\n",
    "        input_txt = re.sub(i, '', str(input_txt))\n",
    "    return input_txt    \n",
    "df['remove_user'] = np.vectorize(remove_pattern)(df['trans_eng'], \"@[\\w]*\")"
   ]
  },
  {
   "cell_type": "code",
   "execution_count": 20,
   "metadata": {},
   "outputs": [
    {
     "ename": "KeyError",
     "evalue": "'Unnamed: 1'",
     "output_type": "error",
     "traceback": [
      "\u001b[1;31m---------------------------------------------------------------------------\u001b[0m",
      "\u001b[1;31mKeyError\u001b[0m                                  Traceback (most recent call last)",
      "\u001b[1;32me:\\skripsi\\FILE_FLASHDISK\\skripsi\\skripsiku\\programskripsi\\Program_Jadi\\Preprocessing\\cleaning.ipynb Cell 5\u001b[0m in \u001b[0;36m<cell line: 2>\u001b[1;34m()\u001b[0m\n\u001b[0;32m      <a href='vscode-notebook-cell:/e%3A/skripsi/FILE_FLASHDISK/skripsi/skripsiku/programskripsi/Program_Jadi/Preprocessing/cleaning.ipynb#X35sZmlsZQ%3D%3D?line=0'>1</a>\u001b[0m train_df \u001b[39m=\u001b[39m data\n\u001b[1;32m----> <a href='vscode-notebook-cell:/e%3A/skripsi/FILE_FLASHDISK/skripsi/skripsiku/programskripsi/Program_Jadi/Preprocessing/cleaning.ipynb#X35sZmlsZQ%3D%3D?line=1'>2</a>\u001b[0m train_df[\u001b[39m'\u001b[39m\u001b[39mclean\u001b[39m\u001b[39m'\u001b[39m] \u001b[39m=\u001b[39m train_df[\u001b[39m'\u001b[39;49m\u001b[39mUnnamed: 1\u001b[39;49m\u001b[39m'\u001b[39;49m]\u001b[39m.\u001b[39mapply(\u001b[39mlambda\u001b[39;00m x: clean(x))\n\u001b[0;32m      <a href='vscode-notebook-cell:/e%3A/skripsi/FILE_FLASHDISK/skripsi/skripsiku/programskripsi/Program_Jadi/Preprocessing/cleaning.ipynb#X35sZmlsZQ%3D%3D?line=3'>4</a>\u001b[0m train_df\u001b[39m.\u001b[39mhead(\u001b[39m10\u001b[39m)\n",
      "File \u001b[1;32me:\\skripsi\\FILE_FLASHDISK\\skripsi\\skripsiku\\programskripsi\\Program_Jadi\\my-project\\my-env\\lib\\site-packages\\pandas\\core\\series.py:958\u001b[0m, in \u001b[0;36mSeries.__getitem__\u001b[1;34m(self, key)\u001b[0m\n\u001b[0;32m    955\u001b[0m     \u001b[39mreturn\u001b[39;00m \u001b[39mself\u001b[39m\u001b[39m.\u001b[39m_values[key]\n\u001b[0;32m    957\u001b[0m \u001b[39melif\u001b[39;00m key_is_scalar:\n\u001b[1;32m--> 958\u001b[0m     \u001b[39mreturn\u001b[39;00m \u001b[39mself\u001b[39;49m\u001b[39m.\u001b[39;49m_get_value(key)\n\u001b[0;32m    960\u001b[0m \u001b[39mif\u001b[39;00m is_hashable(key):\n\u001b[0;32m    961\u001b[0m     \u001b[39m# Otherwise index.get_value will raise InvalidIndexError\u001b[39;00m\n\u001b[0;32m    962\u001b[0m     \u001b[39mtry\u001b[39;00m:\n\u001b[0;32m    963\u001b[0m         \u001b[39m# For labels that don't resolve as scalars like tuples and frozensets\u001b[39;00m\n",
      "File \u001b[1;32me:\\skripsi\\FILE_FLASHDISK\\skripsi\\skripsiku\\programskripsi\\Program_Jadi\\my-project\\my-env\\lib\\site-packages\\pandas\\core\\series.py:1069\u001b[0m, in \u001b[0;36mSeries._get_value\u001b[1;34m(self, label, takeable)\u001b[0m\n\u001b[0;32m   1066\u001b[0m     \u001b[39mreturn\u001b[39;00m \u001b[39mself\u001b[39m\u001b[39m.\u001b[39m_values[label]\n\u001b[0;32m   1068\u001b[0m \u001b[39m# Similar to Index.get_value, but we do not fall back to positional\u001b[39;00m\n\u001b[1;32m-> 1069\u001b[0m loc \u001b[39m=\u001b[39m \u001b[39mself\u001b[39;49m\u001b[39m.\u001b[39;49mindex\u001b[39m.\u001b[39;49mget_loc(label)\n\u001b[0;32m   1070\u001b[0m \u001b[39mreturn\u001b[39;00m \u001b[39mself\u001b[39m\u001b[39m.\u001b[39mindex\u001b[39m.\u001b[39m_get_values_for_loc(\u001b[39mself\u001b[39m, loc, label)\n",
      "File \u001b[1;32me:\\skripsi\\FILE_FLASHDISK\\skripsi\\skripsiku\\programskripsi\\Program_Jadi\\my-project\\my-env\\lib\\site-packages\\pandas\\core\\indexes\\range.py:389\u001b[0m, in \u001b[0;36mRangeIndex.get_loc\u001b[1;34m(self, key, method, tolerance)\u001b[0m\n\u001b[0;32m    387\u001b[0m             \u001b[39mraise\u001b[39;00m \u001b[39mKeyError\u001b[39;00m(key) \u001b[39mfrom\u001b[39;00m \u001b[39merr\u001b[39;00m\n\u001b[0;32m    388\u001b[0m     \u001b[39mself\u001b[39m\u001b[39m.\u001b[39m_check_indexing_error(key)\n\u001b[1;32m--> 389\u001b[0m     \u001b[39mraise\u001b[39;00m \u001b[39mKeyError\u001b[39;00m(key)\n\u001b[0;32m    390\u001b[0m \u001b[39mreturn\u001b[39;00m \u001b[39msuper\u001b[39m()\u001b[39m.\u001b[39mget_loc(key, method\u001b[39m=\u001b[39mmethod, tolerance\u001b[39m=\u001b[39mtolerance)\n",
      "\u001b[1;31mKeyError\u001b[0m: 'Unnamed: 1'"
     ]
    }
   ],
   "source": [
    "df = data\n",
    "# train_df['Unnamed: 1'] = train_df['Unnamed: 1'].apply(lambda x: clean(x))\n",
    "df['remove_http'] = df['remove_user'].apply(lambda x: clean(x))\n",
    "\n",
    "train_df.head(10)"
   ]
  },
  {
   "cell_type": "code",
   "execution_count": null,
   "metadata": {},
   "outputs": [],
   "source": []
  }
 ],
 "metadata": {
  "kernelspec": {
   "display_name": "Python 3.10.5 ('my-env': venv)",
   "language": "python",
   "name": "python3"
  },
  "language_info": {
   "codemirror_mode": {
    "name": "ipython",
    "version": 3
   },
   "file_extension": ".py",
   "mimetype": "text/x-python",
   "name": "python",
   "nbconvert_exporter": "python",
   "pygments_lexer": "ipython3",
   "version": "3.10.5"
  },
  "vscode": {
   "interpreter": {
    "hash": "4a7bee19b568be8d98125153f5c3b19aa21d2d91c4444c24403043c900e7bd3f"
   }
  }
 },
 "nbformat": 4,
 "nbformat_minor": 4
}
