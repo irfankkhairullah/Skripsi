{
 "cells": [
  {
   "cell_type": "code",
   "execution_count": 1,
   "metadata": {},
   "outputs": [],
   "source": [
    "from sklearn.feature_extraction.text import TfidfVectorizer"
   ]
  },
  {
   "cell_type": "code",
   "execution_count": 2,
   "metadata": {},
   "outputs": [],
   "source": [
    "docA = \"The car is driven on the road\"\n",
    "docB = \"The truck is driven on the highway\" "
   ]
  },
  {
   "cell_type": "code",
   "execution_count": 3,
   "metadata": {},
   "outputs": [],
   "source": [
    "tfidf = TfidfVectorizer()"
   ]
  },
  {
   "cell_type": "code",
   "execution_count": 4,
   "metadata": {},
   "outputs": [],
   "source": [
    "response = tfidf.fit_transform([docA, docB])"
   ]
  },
  {
   "cell_type": "code",
   "execution_count": 5,
   "metadata": {},
   "outputs": [
    {
     "name": "stdout",
     "output_type": "stream",
     "text": [
      "road  -  0.42471718586982765\n",
      "on  -  0.30218977576862155\n",
      "driven  -  0.30218977576862155\n",
      "is  -  0.30218977576862155\n",
      "car  -  0.42471718586982765\n",
      "the  -  0.6043795515372431\n",
      "highway  -  0.0\n",
      "truck  -  0.0\n",
      "on  -  0.30218977576862155\n",
      "driven  -  0.30218977576862155\n",
      "is  -  0.30218977576862155\n",
      "the  -  0.6043795515372431\n"
     ]
    }
   ],
   "source": [
    "feature_names = tfidf.get_feature_names()\n",
    "for col in response.nonzero()[1]:\n",
    "    print (feature_names[col], ' - ', response[0, col])"
   ]
  },
  {
   "cell_type": "code",
   "execution_count": 7,
   "metadata": {},
   "outputs": [
    {
     "name": "stdout",
     "output_type": "stream",
     "text": [
      "  (0, 6)\t0.604379551537\n",
      "  (0, 0)\t0.42471718587\n",
      "  (0, 3)\t0.302189775769\n",
      "  (0, 1)\t0.302189775769\n",
      "  (0, 4)\t0.302189775769\n",
      "  (0, 5)\t0.42471718587\n"
     ]
    }
   ],
   "source": []
  },
  {
   "cell_type": "code",
   "execution_count": null,
   "metadata": {},
   "outputs": [],
   "source": []
  }
 ],
 "metadata": {
  "kernelspec": {
   "display_name": "Python 3.9.7 64-bit",
   "language": "python",
   "name": "python3"
  },
  "language_info": {
   "codemirror_mode": {
    "name": "ipython",
    "version": 3
   },
   "file_extension": ".py",
   "mimetype": "text/x-python",
   "name": "python",
   "nbconvert_exporter": "python",
   "pygments_lexer": "ipython3",
   "version": "3.9.7"
  },
  "vscode": {
   "interpreter": {
    "hash": "fc98b66a4238bb2415949f328c820360ee600c3215194ec18299bc0d5cf8ee81"
   }
  }
 },
 "nbformat": 4,
 "nbformat_minor": 2
}
